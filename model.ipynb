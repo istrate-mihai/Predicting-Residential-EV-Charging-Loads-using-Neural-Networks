{
 "cells": [
  {
   "cell_type": "markdown",
   "id": "3571a102",
   "metadata": {},
   "source": [
    "# Predicting Electric Vehicle Charging Loads"
   ]
  },
  {
   "cell_type": "markdown",
   "id": "33cdffe4",
   "metadata": {},
   "source": [
    "In this project, you will use PyTorch to train a neural network to predict residential electric vehicle charging loads using real-world data from apartment buildings in Norway.\n",
    "\n",
    "In particular, you will use input features like\n",
    "\n",
    "plug-in duration\n",
    "whether the location is private/public\n",
    "the month\n",
    "the day of the week\n",
    "traffic density\n",
    "to predict\n",
    "\n",
    "the actual charging load in kilowatt hours for a charging session\n",
    "If it performs well, a model like this could be useful in predicting things like energy costs when developing EV charging infrastructure.\n",
    "\n",
    "Note: we’ve included all of the data wrangling steps as tasks in this project, since it is important to practice these basic skills. Feel free to look at the solution if you don’t remember some of the specific pandas syntax for these steps!\n",
    "\n",
    "Datasource:\n",
    "https://data.mendeley.com/datasets/jbks2rcwyj/1"
   ]
  },
  {
   "cell_type": "markdown",
   "id": "d90e4d13",
   "metadata": {},
   "source": [
    "## Import Libraries"
   ]
  },
  {
   "cell_type": "code",
   "execution_count": null,
   "id": "0400140e",
   "metadata": {},
   "outputs": [],
   "source": [
    "import numpy as np\n",
    "import pandas as pd\n",
    "import matplotlib.pyplot as plt\n",
    "import matplotlib.image as mpimg\n",
    "\n",
    "from sklearn.model_selection import train_test_split\n",
    "import torch"
   ]
  },
  {
   "cell_type": "code",
   "execution_count": null,
   "id": "7ceb692e",
   "metadata": {},
   "outputs": [],
   "source": [
    "image = mpimg.imread(\"assets/images/dataset-cover.jpg\")\n",
    "plt.imshow(image)\n",
    "plt.axis(\"off\")\n",
    "plt.show()"
   ]
  },
  {
   "cell_type": "markdown",
   "id": "b59534f9",
   "metadata": {},
   "source": [
    "### Task Group 1 - Load, Inspect, and Merge Datasets"
   ]
  },
  {
   "cell_type": "markdown",
   "id": "0a4b2da4",
   "metadata": {},
   "source": [
    "### Task 1"
   ]
  },
  {
   "cell_type": "code",
   "execution_count": null,
   "id": "101c1429",
   "metadata": {},
   "outputs": [],
   "source": [
    "ev_charging_reports = pd.read_csv(\"data/Dataset 1_EV charging reports.csv\", delimiter=\";\")\n",
    "ev_charging_reports.head()"
   ]
  },
  {
   "cell_type": "markdown",
   "id": "766a4a5e",
   "metadata": {},
   "source": [
    "#### Data structure\n",
    "\n",
    "session_ID - the unique id for each EV charging session\n",
    "\n",
    "Garage_ID - the unique id for the garage of the apartment\n",
    "\n",
    "User_ID - the unique id for each user\n",
    "\n",
    "User_private - 1.0 indicates private charge point spaces and 0.0 indicates shared charge point spaces\n",
    "\n",
    "Shared_ID - the unique id if shared charge point spaces are used\n",
    "\n",
    "Start_plugin - the plug-in date and time in the format (day.month.year hour:minute)\n",
    "\n",
    "Start_plugin_hour - the plug-in date and time rounded to the start of the hour\n",
    "\n",
    "End_plugout - the plug-out date and time in the format (day.month.year hour:minute)\n",
    "\n",
    "End_plugout_hour - the start of the hour of the End_plugout hour\n",
    "\n",
    "El_kWh - the charged energy in kWh (charging loads)\n",
    "\n",
    "Duration_hours - the duration of the EV connection time per session\n",
    "\n",
    "Plugin_category - the plug-in time categorized by early/late night, morning, afternoon, and evening\n",
    "\n",
    "Duration_category - the plug-in duration categorized by 3 hour groups\n",
    "\n",
    "month_plugin_{month} - the month of the plug-in session\n",
    "\n",
    "weekdays_plugin_{day} - the day of the week of the plug-in session\n"
   ]
  },
  {
   "cell_type": "markdown",
   "id": "b5cb6f55",
   "metadata": {},
   "source": [
    "### Task 2\n",
    "\n",
    "Import the file 'data/Local traffic distribution.csv' to a pandas DataFrame named traffic_reports.\n",
    "\n",
    "This dataset contains the hourly local traffic density counts at 5 nearby traffic locations."
   ]
  },
  {
   "cell_type": "code",
   "execution_count": null,
   "id": "7a46a8ec",
   "metadata": {},
   "outputs": [],
   "source": [
    "traffic_reports = pd.read_csv(\"data/Dataset 6_Local traffic distribution.csv\", delimiter=\";\")\n",
    "traffic_reports.head()"
   ]
  },
  {
   "cell_type": "markdown",
   "id": "8248f0cf",
   "metadata": {},
   "source": [
    "#### Data Structure\n",
    "\n",
    "Date_from - the starting time in the format (day.month.year hour:minute)\n",
    "\n",
    "Date_to - the ending time in the format (day.month.year hour:minute)\n",
    "\n",
    "Location 1 to 5 - contains the number of vehicles each hour at a specified traffic location."
   ]
  },
  {
   "cell_type": "markdown",
   "id": "8e9a13c6",
   "metadata": {},
   "source": [
    "### Task 3\n"
   ]
  },
  {
   "cell_type": "code",
   "execution_count": null,
   "id": "42dfea3a",
   "metadata": {},
   "outputs": [],
   "source": [
    "ev_charging_reports['Start_plugin_hour'] = pd.to_datetime(ev_charging_reports['Start_plugin_hour'], errors='coerce')\n",
    "traffic_reports['Date_from'] = pd.to_datetime(traffic_reports['Date_from'], errors='coerce')"
   ]
  },
  {
   "cell_type": "code",
   "execution_count": null,
   "id": "3ce17c95",
   "metadata": {},
   "outputs": [],
   "source": [
    "ev_charging_traffic = ev_charging_reports.merge(traffic_reports, left_on = \"Start_plugin_hour\", right_on = \"Date_from\", how= \"left\")"
   ]
  },
  {
   "cell_type": "code",
   "execution_count": null,
   "id": "25da5c0f",
   "metadata": {},
   "outputs": [],
   "source": [
    "ev_charging_traffic.head()"
   ]
  },
  {
   "cell_type": "markdown",
   "id": "1609ea59",
   "metadata": {},
   "source": [
    "### Task 4"
   ]
  },
  {
   "cell_type": "code",
   "execution_count": null,
   "id": "cecf2844",
   "metadata": {},
   "outputs": [],
   "source": [
    "ev_charging_traffic.info()"
   ]
  },
  {
   "cell_type": "code",
   "execution_count": null,
   "id": "0e56266f",
   "metadata": {},
   "outputs": [],
   "source": []
  },
  {
   "cell_type": "code",
   "execution_count": null,
   "id": "7d060b19",
   "metadata": {},
   "outputs": [],
   "source": []
  },
  {
   "cell_type": "code",
   "execution_count": null,
   "id": "c9773e63",
   "metadata": {},
   "outputs": [],
   "source": []
  },
  {
   "cell_type": "code",
   "execution_count": null,
   "id": "bd634d05",
   "metadata": {},
   "outputs": [],
   "source": []
  },
  {
   "cell_type": "code",
   "execution_count": null,
   "id": "c3d32b7e",
   "metadata": {},
   "outputs": [],
   "source": []
  },
  {
   "cell_type": "code",
   "execution_count": null,
   "id": "37c27a8d",
   "metadata": {},
   "outputs": [],
   "source": []
  },
  {
   "cell_type": "code",
   "execution_count": null,
   "id": "810ae451",
   "metadata": {},
   "outputs": [],
   "source": []
  },
  {
   "cell_type": "code",
   "execution_count": null,
   "id": "3b4541e9",
   "metadata": {},
   "outputs": [],
   "source": []
  },
  {
   "cell_type": "code",
   "execution_count": null,
   "id": "fd1e0dd7",
   "metadata": {},
   "outputs": [],
   "source": []
  },
  {
   "cell_type": "code",
   "execution_count": null,
   "id": "e43e33ca",
   "metadata": {},
   "outputs": [],
   "source": []
  },
  {
   "cell_type": "code",
   "execution_count": null,
   "id": "31e8685d",
   "metadata": {},
   "outputs": [],
   "source": []
  },
  {
   "cell_type": "code",
   "execution_count": null,
   "id": "69bb402f",
   "metadata": {},
   "outputs": [],
   "source": []
  },
  {
   "cell_type": "code",
   "execution_count": null,
   "id": "443e18e3",
   "metadata": {},
   "outputs": [],
   "source": []
  },
  {
   "cell_type": "code",
   "execution_count": null,
   "id": "be1d5dae",
   "metadata": {},
   "outputs": [],
   "source": []
  },
  {
   "cell_type": "code",
   "execution_count": null,
   "id": "47d8dc28",
   "metadata": {},
   "outputs": [],
   "source": []
  },
  {
   "cell_type": "code",
   "execution_count": null,
   "id": "c7567a40",
   "metadata": {},
   "outputs": [],
   "source": []
  },
  {
   "cell_type": "code",
   "execution_count": null,
   "id": "0bb2fcd0",
   "metadata": {},
   "outputs": [],
   "source": []
  },
  {
   "cell_type": "code",
   "execution_count": null,
   "id": "8a89e61a",
   "metadata": {},
   "outputs": [],
   "source": []
  },
  {
   "cell_type": "code",
   "execution_count": null,
   "id": "d0ea5291",
   "metadata": {},
   "outputs": [],
   "source": []
  },
  {
   "cell_type": "code",
   "execution_count": null,
   "id": "caf52433",
   "metadata": {},
   "outputs": [],
   "source": []
  },
  {
   "cell_type": "code",
   "execution_count": null,
   "id": "14b828a4",
   "metadata": {},
   "outputs": [],
   "source": []
  },
  {
   "cell_type": "code",
   "execution_count": null,
   "id": "288121ba",
   "metadata": {},
   "outputs": [],
   "source": []
  },
  {
   "cell_type": "code",
   "execution_count": null,
   "id": "70a0b7db",
   "metadata": {},
   "outputs": [],
   "source": []
  },
  {
   "cell_type": "code",
   "execution_count": null,
   "id": "8d327ad2",
   "metadata": {},
   "outputs": [],
   "source": []
  },
  {
   "cell_type": "code",
   "execution_count": null,
   "id": "66b24ebc",
   "metadata": {},
   "outputs": [],
   "source": []
  },
  {
   "cell_type": "code",
   "execution_count": null,
   "id": "672b67a1",
   "metadata": {},
   "outputs": [],
   "source": []
  },
  {
   "cell_type": "code",
   "execution_count": null,
   "id": "ddf38d9b",
   "metadata": {},
   "outputs": [],
   "source": []
  },
  {
   "cell_type": "code",
   "execution_count": null,
   "id": "eaf7154b",
   "metadata": {},
   "outputs": [],
   "source": []
  },
  {
   "cell_type": "code",
   "execution_count": null,
   "id": "a5cf9294",
   "metadata": {},
   "outputs": [],
   "source": []
  },
  {
   "cell_type": "code",
   "execution_count": null,
   "id": "f5c2e4bf",
   "metadata": {},
   "outputs": [],
   "source": []
  },
  {
   "cell_type": "code",
   "execution_count": null,
   "id": "b4711ebf",
   "metadata": {},
   "outputs": [],
   "source": []
  },
  {
   "cell_type": "code",
   "execution_count": null,
   "id": "1c3b829b",
   "metadata": {},
   "outputs": [],
   "source": []
  },
  {
   "cell_type": "code",
   "execution_count": null,
   "id": "9f75eb8f",
   "metadata": {},
   "outputs": [],
   "source": []
  },
  {
   "cell_type": "code",
   "execution_count": null,
   "id": "e7fc49bd",
   "metadata": {},
   "outputs": [],
   "source": []
  },
  {
   "cell_type": "code",
   "execution_count": null,
   "id": "38fc94dd",
   "metadata": {},
   "outputs": [],
   "source": []
  },
  {
   "cell_type": "code",
   "execution_count": null,
   "id": "d552e95d",
   "metadata": {},
   "outputs": [],
   "source": []
  },
  {
   "cell_type": "code",
   "execution_count": null,
   "id": "872db6b7",
   "metadata": {},
   "outputs": [],
   "source": []
  },
  {
   "cell_type": "code",
   "execution_count": null,
   "id": "d2a8324a",
   "metadata": {},
   "outputs": [],
   "source": []
  },
  {
   "cell_type": "code",
   "execution_count": null,
   "id": "38a4e901",
   "metadata": {},
   "outputs": [],
   "source": []
  },
  {
   "cell_type": "code",
   "execution_count": null,
   "id": "4d739f32",
   "metadata": {},
   "outputs": [],
   "source": []
  },
  {
   "cell_type": "code",
   "execution_count": null,
   "id": "ae711bdf",
   "metadata": {},
   "outputs": [],
   "source": []
  },
  {
   "cell_type": "code",
   "execution_count": null,
   "id": "5bcbbe17",
   "metadata": {},
   "outputs": [],
   "source": []
  },
  {
   "cell_type": "code",
   "execution_count": null,
   "id": "dc0c8771",
   "metadata": {},
   "outputs": [],
   "source": []
  },
  {
   "cell_type": "code",
   "execution_count": null,
   "id": "5b76ac9c",
   "metadata": {},
   "outputs": [],
   "source": []
  }
 ],
 "metadata": {
  "kernelspec": {
   "display_name": "Python 3",
   "language": "python",
   "name": "python3"
  },
  "language_info": {
   "codemirror_mode": {
    "name": "ipython",
    "version": 3
   },
   "file_extension": ".py",
   "mimetype": "text/x-python",
   "name": "python",
   "nbconvert_exporter": "python",
   "pygments_lexer": "ipython3",
   "version": "3.12.9"
  }
 },
 "nbformat": 4,
 "nbformat_minor": 5
}
